{
  "nbformat": 4,
  "nbformat_minor": 0,
  "metadata": {
    "colab": {
      "name": "Iris.ipynb",
      "provenance": [],
      "authorship_tag": "ABX9TyPy35eOKnXhQOxQ5e1wZXen",
      "include_colab_link": true
    },
    "kernelspec": {
      "name": "python3",
      "display_name": "Python 3"
    },
    "language_info": {
      "name": "python"
    }
  },
  "cells": [
    {
      "cell_type": "markdown",
      "metadata": {
        "id": "view-in-github",
        "colab_type": "text"
      },
      "source": [
        "<a href=\"https://colab.research.google.com/github/Jav-Akse/VKR_2022/blob/main/NeuralNetwork_using_StohasticGradientDescent_2.ipynb\" target=\"_parent\"><img src=\"https://colab.research.google.com/assets/colab-badge.svg\" alt=\"Open In Colab\"/></a>"
      ]
    },
    {
      "cell_type": "markdown",
      "source": [
        "Подгружаем необходимые библиотеки"
      ],
      "metadata": {
        "id": "00RWwVyPrQ4P"
      }
    },
    {
      "cell_type": "code",
      "source": [
        "import random\n",
        "import numpy as np"
      ],
      "metadata": {
        "id": "P7EMO2WLfStD"
      },
      "execution_count": 1,
      "outputs": []
    },
    {
      "cell_type": "markdown",
      "source": [
        "Количество входных, промежуточных и выходных нейронов.\n",
        "Реализовал на примере классификации цветков ириса. По 4 входным параметрам (INPUT_DIM, длина, ширина лепестка; длина, ширина чашелистика) определяется вид цветка (OUTPUT_DIM, setosa, virginica, versicolor)."
      ],
      "metadata": {
        "id": "rE2WoPX1r4-y"
      }
    },
    {
      "cell_type": "code",
      "source": [
        "INPUT_DIM = 4\n",
        "OUTPUT_DIM = 3\n",
        "H_DIM = 10"
      ],
      "metadata": {
        "id": "Qdi_YCxQflSq"
      },
      "execution_count": 31,
      "outputs": []
    },
    {
      "cell_type": "markdown",
      "source": [
        "Простая функция активации. Берет максимум из значения, которое мы передаем и 0"
      ],
      "metadata": {
        "id": "49Kk8KUVwE1f"
      }
    },
    {
      "cell_type": "code",
      "source": [
        "def relu(t):\n",
        "  return np.maximum(t, 0)"
      ],
      "metadata": {
        "id": "ZyUh_i4PkzTW"
      },
      "execution_count": 3,
      "outputs": []
    },
    {
      "cell_type": "markdown",
      "source": [
        "Функция активации в выходном слое моделей нейронной сети"
      ],
      "metadata": {
        "id": "ptnzGcAfwUR3"
      }
    },
    {
      "cell_type": "code",
      "source": [
        "def softmax(t):\n",
        "  out = np.exp(t)\n",
        "  return out/np.sum(out)"
      ],
      "metadata": {
        "id": "YGQyEx7Lk9nQ"
      },
      "execution_count": 4,
      "outputs": []
    },
    {
      "cell_type": "markdown",
      "source": [
        "Та же функция получения ответа, но с модификацией для градиента (по группе образцов)"
      ],
      "metadata": {
        "id": "H6s4g2_-wYC5"
      }
    },
    {
      "cell_type": "code",
      "source": [
        "def softmax_batch(t):\n",
        "  out = np.exp(t)\n",
        "  return out/np.sum(out, axis=1, keepdims=True)"
      ],
      "metadata": {
        "id": "196pbPjYxdMB"
      },
      "execution_count": 5,
      "outputs": []
    },
    {
      "cell_type": "markdown",
      "source": [
        "Функция кросс энтрапии для подсчета разницы между правильным ответом и полученным"
      ],
      "metadata": {
        "id": "EWxNpub_zJ7F"
      }
    },
    {
      "cell_type": "code",
      "source": [
        "def sparse_cross_entrapy(z, y):\n",
        "  return -np.log(z[0, y])"
      ],
      "metadata": {
        "id": "eWKeDcvXlpZW"
      },
      "execution_count": 6,
      "outputs": []
    },
    {
      "cell_type": "markdown",
      "source": [
        "Та же функция кросс энтрапии, но с модификацией для группы образцов"
      ],
      "metadata": {
        "id": "OrOXBFAJzXC9"
      }
    },
    {
      "cell_type": "code",
      "source": [
        "def sparse_cross_entrapy_batch(z, y):\n",
        "  return -np.log(np.array([z[j, y[j]] for j in range(len(y))]))"
      ],
      "metadata": {
        "id": "z7DkIGjsx1BN"
      },
      "execution_count": 7,
      "outputs": []
    },
    {
      "cell_type": "code",
      "source": [
        "def to_full(y, num_classes):\n",
        "  y_full = np.zeros((1, num_classes))\n",
        "  y_full[0, y] = 1\n",
        "  return y_full"
      ],
      "metadata": {
        "id": "Bdk4n3n1mUh1"
      },
      "execution_count": 8,
      "outputs": []
    },
    {
      "cell_type": "code",
      "source": [
        "def to_full_batch(y, num_classes):\n",
        "  y_full = np.zeros((len(y), num_classes))\n",
        "  for j, yj in enumerate(y):\n",
        "    y_full[j, yj] = 1\n",
        "  return y_full"
      ],
      "metadata": {
        "id": "dDw1oWCF0bxI"
      },
      "execution_count": 9,
      "outputs": []
    },
    {
      "cell_type": "markdown",
      "source": [
        "Простая функция активации при обратном прохождении по нейронной сети"
      ],
      "metadata": {
        "id": "jTGMKLkkvCmc"
      }
    },
    {
      "cell_type": "code",
      "source": [
        "def relu_deriv(t):\n",
        "  return (t >= 0).astype(float)"
      ],
      "metadata": {
        "id": "DaR5SNLWpeN-"
      },
      "execution_count": 10,
      "outputs": []
    },
    {
      "cell_type": "markdown",
      "source": [
        "Загружаем готовый набор данных об ирисах Фишера"
      ],
      "metadata": {
        "id": "KqMcdOb6RJR5"
      }
    },
    {
      "cell_type": "code",
      "source": [
        "from sklearn import datasets\n",
        "iris = datasets.load_iris()"
      ],
      "metadata": {
        "id": "BJuayZKkjn9h"
      },
      "execution_count": 11,
      "outputs": []
    },
    {
      "cell_type": "code",
      "source": [
        "dataset = [(iris.data[i][None, ...], iris.target[i]) for i in range (len(iris.target))]"
      ],
      "metadata": {
        "id": "o-jyg9QGqq6q"
      },
      "execution_count": 48,
      "outputs": []
    },
    {
      "cell_type": "markdown",
      "source": [
        "Разбиваем датасет для обучаемый и тестовый набор данных"
      ],
      "metadata": {
        "id": "jyr6Pn_4Q-7z"
      }
    },
    {
      "cell_type": "code",
      "source": [
        "train_data = dataset[:130]\n",
        "test_data = dataset[130:]"
      ],
      "metadata": {
        "id": "89mF2xRZLLzz"
      },
      "execution_count": 24,
      "outputs": []
    },
    {
      "cell_type": "markdown",
      "source": [
        "Задаем матрицу весов и вектор смещения для двух слоев нейронной сети"
      ],
      "metadata": {
        "id": "ajT3NE3auenx"
      }
    },
    {
      "cell_type": "code",
      "source": [
        "W1 = np.random.randn(INPUT_DIM, H_DIM)\n",
        "b1 = np.random.randn(1, H_DIM)\n",
        "W2 = np.random.randn(H_DIM, OUTPUT_DIM)\n",
        "b2 = np.random.randn(1, OUTPUT_DIM)"
      ],
      "metadata": {
        "id": "5Mzg71OfkBR-"
      },
      "execution_count": 32,
      "outputs": []
    },
    {
      "cell_type": "markdown",
      "source": [
        "Определяем гиперпараметры нейронной сети.\n",
        "Скорость обучения 0.0001.\n",
        "Количество эпох (прогонов обучения) 100.\n",
        "Размер группы ошибок (для вычисления стохастического градиента) 50"
      ],
      "metadata": {
        "id": "Petfxyvrurb-"
      }
    },
    {
      "cell_type": "code",
      "source": [
        "LEARNING_RATE = 0.0001\n",
        "NUM_EPOCHS = 100\n",
        "BATCH_SIZE = 50"
      ],
      "metadata": {
        "id": "KPlJ5hIhpsuG"
      },
      "execution_count": 25,
      "outputs": []
    },
    {
      "cell_type": "markdown",
      "source": [
        "Прямое и обратное распространение ошибок, обновление параметров нейронной сети и подсчет функции потерь"
      ],
      "metadata": {
        "id": "c-7TGjvcvM9K"
      }
    },
    {
      "cell_type": "code",
      "source": [
        "loss_arr = []\n",
        "for ep in range(NUM_EPOCHS):\n",
        "  random.shuffle(train_data)\n",
        "  for i in range(len(train_data) // BATCH_SIZE):\n",
        "\n",
        "    batch_x, batch_y = zip(*train_data[i * BATCH_SIZE : i * BATCH_SIZE + BATCH_SIZE])\n",
        "    x = np.concatenate(batch_x, axis=0)\n",
        "    y = np.array(batch_y)\n",
        "\n",
        "    #Forward\n",
        "    t1 = x @ W1 + b1\n",
        "    h1 = relu(t1)\n",
        "    t2 = h1 @ W2 + b2\n",
        "    z = softmax_batch(t2)\n",
        "    E = np.sum(sparse_cross_entrapy_batch(z, y))\n",
        "\n",
        "    #Backward\n",
        "    y_full = to_full_batch(y, OUTPUT_DIM)\n",
        "    dE_dt2 = z - y_full\n",
        "    dE_dW2 = h1.T @ dE_dt2\n",
        "    dE_db2 = np.sum(dE_dt2, axis=0, keepdims=True)\n",
        "    dE_dh1 = dE_dt2 @ W2.T\n",
        "    dE_dt1 = dE_dh1 * relu_deriv(t1)\n",
        "    dE_dW1 = x.T @ dE_dt1\n",
        "    dE_db1 = np.sum(dE_dt1, axis=0, keepdims=True)\n",
        "\n",
        "    #Update\n",
        "    #один шаг градиентного спуска\n",
        "    W1 = W1 - LEARNING_RATE * dE_dW1\n",
        "    b1 = b1 - LEARNING_RATE * dE_db1\n",
        "    W2 = W2 - LEARNING_RATE * dE_dW2\n",
        "    b2 = b2 - LEARNING_RATE * dE_db2\n",
        "\n",
        "    loss_arr.append(E)"
      ],
      "metadata": {
        "id": "ilyE0O0_rdBX"
      },
      "execution_count": 33,
      "outputs": []
    },
    {
      "cell_type": "markdown",
      "source": [
        "Функция предсказания ответа"
      ],
      "metadata": {
        "id": "lmTVw6zYvSCs"
      }
    },
    {
      "cell_type": "code",
      "source": [
        "def predict(x):\n",
        "  t1 = x @ W1 + b1\n",
        "  h1 = relu(t1)\n",
        "  t2 = h1 @ W2 + b2\n",
        "  z = softmax(t2)\n",
        "  return z"
      ],
      "metadata": {
        "id": "sHwi9TrMtCLW"
      },
      "execution_count": 27,
      "outputs": []
    },
    {
      "cell_type": "markdown",
      "source": [
        "Функция подсчета точности работы нейронной сети в процессе обучения"
      ],
      "metadata": {
        "id": "OOUlgT73vV73"
      }
    },
    {
      "cell_type": "code",
      "source": [
        "def calc_accuracy():\n",
        "  correct = 0\n",
        "  for x, y in train_data:\n",
        "    z = predict(x)\n",
        "    y_pred = np.argmax(z)\n",
        "    if y_pred == y:\n",
        "      correct += 1\n",
        "  acc = correct/len(train_data)\n",
        "  return acc"
      ],
      "metadata": {
        "id": "VIapOuQ4tPcc"
      },
      "execution_count": 36,
      "outputs": []
    },
    {
      "cell_type": "markdown",
      "source": [
        "Точность"
      ],
      "metadata": {
        "id": "usgqj683vc8O"
      }
    },
    {
      "cell_type": "code",
      "source": [
        "accuracy = calc_accuracy()\n",
        "print(\"Accuracy:\", accuracy)"
      ],
      "metadata": {
        "colab": {
          "base_uri": "https://localhost:8080/"
        },
        "id": "JSGxlbMEt2wt",
        "outputId": "a68d1554-fd30-4f48-aeaa-490acbbd22de"
      },
      "execution_count": 37,
      "outputs": [
        {
          "output_type": "stream",
          "name": "stdout",
          "text": [
            "Accuracy: 0.9615384615384616\n"
          ]
        }
      ]
    },
    {
      "cell_type": "markdown",
      "source": [
        "График функции потерь в процессе обучения. Можно заметить, что с увеличением количества повторений алгоритма количество ошибок уменьшается"
      ],
      "metadata": {
        "id": "VHHDh496ve61"
      }
    },
    {
      "cell_type": "code",
      "source": [
        "import matplotlib.pyplot as plt\n",
        "plt.plot(loss_arr)\n",
        "plt.show()"
      ],
      "metadata": {
        "colab": {
          "base_uri": "https://localhost:8080/",
          "height": 265
        },
        "id": "q-35VK76vJ3A",
        "outputId": "d0cc100f-30f0-4f57-e3a1-547366a51f48"
      },
      "execution_count": 35,
      "outputs": [
        {
          "output_type": "display_data",
          "data": {
            "text/plain": [
              "<Figure size 432x288 with 1 Axes>"
            ],
            "image/png": "[encoded data removed]"
          },
          "metadata": {
            "needs_background": "light"
          }
        }
      ]
    },
    {
      "cell_type": "markdown",
      "source": [
        "Подсчет точности на тестовой выборке"
      ],
      "metadata": {
        "id": "cOTIhNO_NStz"
      }
    },
    {
      "cell_type": "code",
      "source": [
        "def testing_accuracy():\n",
        "  correct = 0\n",
        "  for x, y in test_data:\n",
        "    z = predict(x)\n",
        "    y_pred = np.argmax(z)\n",
        "    if y_pred == y:\n",
        "      correct += 1\n",
        "  acc = correct/len(test_data)\n",
        "  return acc"
      ],
      "metadata": {
        "id": "8xCerC2kMOMV"
      },
      "execution_count": 46,
      "outputs": []
    },
    {
      "cell_type": "code",
      "source": [
        "test_accuracy = testing_accuracy()\n",
        "print(\"Test Accuracy:\", test_accuracy)"
      ],
      "metadata": {
        "colab": {
          "base_uri": "https://localhost:8080/"
        },
        "id": "y2rAvYwSM0i6",
        "outputId": "625de9c4-0464-481a-c84a-3503776611d9"
      },
      "execution_count": 47,
      "outputs": [
        {
          "output_type": "stream",
          "name": "stdout",
          "text": [
            "Test Accuracy: 0.9\n"
          ]
        }
      ]
    }
  ]
}