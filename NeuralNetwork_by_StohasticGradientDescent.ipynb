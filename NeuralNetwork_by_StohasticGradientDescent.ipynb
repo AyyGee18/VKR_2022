{
  "nbformat": 4,
  "nbformat_minor": 0,
  "metadata": {
    "colab": {
      "name": "Iris.ipynb",
      "provenance": [],
      "authorship_tag": "ABX9TyOyrL68lXo301aWC48aDOkr",
      "include_colab_link": true
    },
    "kernelspec": {
      "name": "python3",
      "display_name": "Python 3"
    },
    "language_info": {
      "name": "python"
    }
  },
  "cells": [
    {
      "cell_type": "markdown",
      "metadata": {
        "id": "view-in-github",
        "colab_type": "text"
      },
      "source": [
        "<a href=\"https://colab.research.google.com/github/Jav-Akse/Arch_project/blob/main/NeuralNetwork_by_StohasticGradientDescent.ipynb\" target=\"_parent\"><img src=\"https://colab.research.google.com/assets/colab-badge.svg\" alt=\"Open In Colab\"/></a>"
      ]
    },
    {
      "cell_type": "code",
      "source": [
        "import random\n",
        "import numpy as np"
      ],
      "metadata": {
        "id": "P7EMO2WLfStD"
      },
      "execution_count": 56,
      "outputs": []
    },
    {
      "cell_type": "code",
      "source": [
        "INPUT_DIM = 4\n",
        "OUTPUT_DIM = 3\n",
        "H_DIM = 5"
      ],
      "metadata": {
        "id": "Qdi_YCxQflSq"
      },
      "execution_count": 80,
      "outputs": []
    },
    {
      "cell_type": "code",
      "source": [
        "def relu(t):\n",
        "  return np.maximum(t, 0)"
      ],
      "metadata": {
        "id": "ZyUh_i4PkzTW"
      },
      "execution_count": 58,
      "outputs": []
    },
    {
      "cell_type": "code",
      "source": [
        "def softmax(t):\n",
        "  out = np.exp(t)\n",
        "  return out/np.sum(out)"
      ],
      "metadata": {
        "id": "YGQyEx7Lk9nQ"
      },
      "execution_count": 59,
      "outputs": []
    },
    {
      "cell_type": "code",
      "source": [
        "def softmax_batch(t):\n",
        "  out = np.exp(t)\n",
        "  return out/np.sum(out, axis=1, keepdims=True)"
      ],
      "metadata": {
        "id": "196pbPjYxdMB"
      },
      "execution_count": 60,
      "outputs": []
    },
    {
      "cell_type": "code",
      "source": [
        "def sparse_cross_entrapy(z, y):\n",
        "  return -np.log(z[0, y])"
      ],
      "metadata": {
        "id": "eWKeDcvXlpZW"
      },
      "execution_count": 61,
      "outputs": []
    },
    {
      "cell_type": "code",
      "source": [
        "def sparse_cross_entrapy_batch(z, y):\n",
        "  return -np.log(np.array([z[j, y[j]] for j in range(len(y))]))"
      ],
      "metadata": {
        "id": "z7DkIGjsx1BN"
      },
      "execution_count": 62,
      "outputs": []
    },
    {
      "cell_type": "code",
      "source": [
        "def to_full(y, num_classes):\n",
        "  y_full = np.zeros((1, num_classes))\n",
        "  y_full[0, y] = 1\n",
        "  return y_full"
      ],
      "metadata": {
        "id": "Bdk4n3n1mUh1"
      },
      "execution_count": 63,
      "outputs": []
    },
    {
      "cell_type": "code",
      "source": [
        "def to_full_batch(y, num_classes):\n",
        "  y_full = np.zeros((len(y), num_classes))\n",
        "  for j, yj in enumerate(y):\n",
        "    y_full[j, yj] = 1\n",
        "  return y_full"
      ],
      "metadata": {
        "id": "dDw1oWCF0bxI"
      },
      "execution_count": 64,
      "outputs": []
    },
    {
      "cell_type": "code",
      "source": [
        "def relu_deriv(t):\n",
        "  return (t >= 0).astype(float)"
      ],
      "metadata": {
        "id": "DaR5SNLWpeN-"
      },
      "execution_count": 65,
      "outputs": []
    },
    {
      "cell_type": "code",
      "source": [
        "from sklearn import datasets\n",
        "iris = datasets.load_iris()"
      ],
      "metadata": {
        "id": "BJuayZKkjn9h"
      },
      "execution_count": 66,
      "outputs": []
    },
    {
      "cell_type": "code",
      "source": [
        "dataset = [(iris.data[i][None, ...], iris.target[i]) for i in range (len(iris.target))]\n",
        "print(dataset)"
      ],
      "metadata": {
        "colab": {
          "base_uri": "https://localhost:8080/"
        },
        "id": "o-jyg9QGqq6q",
        "outputId": "a7fdc226-513d-4135-d3f2-02234928ee39"
      },
      "execution_count": 67,
      "outputs": [
        {
          "output_type": "stream",
          "name": "stdout",
          "text": [
            "[(array([[5.1, 3.5, 1.4, 0.2]]), 0), (array([[4.9, 3. , 1.4, 0.2]]), 0), (array([[4.7, 3.2, 1.3, 0.2]]), 0), (array([[4.6, 3.1, 1.5, 0.2]]), 0), (array([[5. , 3.6, 1.4, 0.2]]), 0), (array([[5.4, 3.9, 1.7, 0.4]]), 0), (array([[4.6, 3.4, 1.4, 0.3]]), 0), (array([[5. , 3.4, 1.5, 0.2]]), 0), (array([[4.4, 2.9, 1.4, 0.2]]), 0), (array([[4.9, 3.1, 1.5, 0.1]]), 0), (array([[5.4, 3.7, 1.5, 0.2]]), 0), (array([[4.8, 3.4, 1.6, 0.2]]), 0), (array([[4.8, 3. , 1.4, 0.1]]), 0), (array([[4.3, 3. , 1.1, 0.1]]), 0), (array([[5.8, 4. , 1.2, 0.2]]), 0), (array([[5.7, 4.4, 1.5, 0.4]]), 0), (array([[5.4, 3.9, 1.3, 0.4]]), 0), (array([[5.1, 3.5, 1.4, 0.3]]), 0), (array([[5.7, 3.8, 1.7, 0.3]]), 0), (array([[5.1, 3.8, 1.5, 0.3]]), 0), (array([[5.4, 3.4, 1.7, 0.2]]), 0), (array([[5.1, 3.7, 1.5, 0.4]]), 0), (array([[4.6, 3.6, 1. , 0.2]]), 0), (array([[5.1, 3.3, 1.7, 0.5]]), 0), (array([[4.8, 3.4, 1.9, 0.2]]), 0), (array([[5. , 3. , 1.6, 0.2]]), 0), (array([[5. , 3.4, 1.6, 0.4]]), 0), (array([[5.2, 3.5, 1.5, 0.2]]), 0), (array([[5.2, 3.4, 1.4, 0.2]]), 0), (array([[4.7, 3.2, 1.6, 0.2]]), 0), (array([[4.8, 3.1, 1.6, 0.2]]), 0), (array([[5.4, 3.4, 1.5, 0.4]]), 0), (array([[5.2, 4.1, 1.5, 0.1]]), 0), (array([[5.5, 4.2, 1.4, 0.2]]), 0), (array([[4.9, 3.1, 1.5, 0.2]]), 0), (array([[5. , 3.2, 1.2, 0.2]]), 0), (array([[5.5, 3.5, 1.3, 0.2]]), 0), (array([[4.9, 3.6, 1.4, 0.1]]), 0), (array([[4.4, 3. , 1.3, 0.2]]), 0), (array([[5.1, 3.4, 1.5, 0.2]]), 0), (array([[5. , 3.5, 1.3, 0.3]]), 0), (array([[4.5, 2.3, 1.3, 0.3]]), 0), (array([[4.4, 3.2, 1.3, 0.2]]), 0), (array([[5. , 3.5, 1.6, 0.6]]), 0), (array([[5.1, 3.8, 1.9, 0.4]]), 0), (array([[4.8, 3. , 1.4, 0.3]]), 0), (array([[5.1, 3.8, 1.6, 0.2]]), 0), (array([[4.6, 3.2, 1.4, 0.2]]), 0), (array([[5.3, 3.7, 1.5, 0.2]]), 0), (array([[5. , 3.3, 1.4, 0.2]]), 0), (array([[7. , 3.2, 4.7, 1.4]]), 1), (array([[6.4, 3.2, 4.5, 1.5]]), 1), (array([[6.9, 3.1, 4.9, 1.5]]), 1), (array([[5.5, 2.3, 4. , 1.3]]), 1), (array([[6.5, 2.8, 4.6, 1.5]]), 1), (array([[5.7, 2.8, 4.5, 1.3]]), 1), (array([[6.3, 3.3, 4.7, 1.6]]), 1), (array([[4.9, 2.4, 3.3, 1. ]]), 1), (array([[6.6, 2.9, 4.6, 1.3]]), 1), (array([[5.2, 2.7, 3.9, 1.4]]), 1), (array([[5. , 2. , 3.5, 1. ]]), 1), (array([[5.9, 3. , 4.2, 1.5]]), 1), (array([[6. , 2.2, 4. , 1. ]]), 1), (array([[6.1, 2.9, 4.7, 1.4]]), 1), (array([[5.6, 2.9, 3.6, 1.3]]), 1), (array([[6.7, 3.1, 4.4, 1.4]]), 1), (array([[5.6, 3. , 4.5, 1.5]]), 1), (array([[5.8, 2.7, 4.1, 1. ]]), 1), (array([[6.2, 2.2, 4.5, 1.5]]), 1), (array([[5.6, 2.5, 3.9, 1.1]]), 1), (array([[5.9, 3.2, 4.8, 1.8]]), 1), (array([[6.1, 2.8, 4. , 1.3]]), 1), (array([[6.3, 2.5, 4.9, 1.5]]), 1), (array([[6.1, 2.8, 4.7, 1.2]]), 1), (array([[6.4, 2.9, 4.3, 1.3]]), 1), (array([[6.6, 3. , 4.4, 1.4]]), 1), (array([[6.8, 2.8, 4.8, 1.4]]), 1), (array([[6.7, 3. , 5. , 1.7]]), 1), (array([[6. , 2.9, 4.5, 1.5]]), 1), (array([[5.7, 2.6, 3.5, 1. ]]), 1), (array([[5.5, 2.4, 3.8, 1.1]]), 1), (array([[5.5, 2.4, 3.7, 1. ]]), 1), (array([[5.8, 2.7, 3.9, 1.2]]), 1), (array([[6. , 2.7, 5.1, 1.6]]), 1), (array([[5.4, 3. , 4.5, 1.5]]), 1), (array([[6. , 3.4, 4.5, 1.6]]), 1), (array([[6.7, 3.1, 4.7, 1.5]]), 1), (array([[6.3, 2.3, 4.4, 1.3]]), 1), (array([[5.6, 3. , 4.1, 1.3]]), 1), (array([[5.5, 2.5, 4. , 1.3]]), 1), (array([[5.5, 2.6, 4.4, 1.2]]), 1), (array([[6.1, 3. , 4.6, 1.4]]), 1), (array([[5.8, 2.6, 4. , 1.2]]), 1), (array([[5. , 2.3, 3.3, 1. ]]), 1), (array([[5.6, 2.7, 4.2, 1.3]]), 1), (array([[5.7, 3. , 4.2, 1.2]]), 1), (array([[5.7, 2.9, 4.2, 1.3]]), 1), (array([[6.2, 2.9, 4.3, 1.3]]), 1), (array([[5.1, 2.5, 3. , 1.1]]), 1), (array([[5.7, 2.8, 4.1, 1.3]]), 1), (array([[6.3, 3.3, 6. , 2.5]]), 2), (array([[5.8, 2.7, 5.1, 1.9]]), 2), (array([[7.1, 3. , 5.9, 2.1]]), 2), (array([[6.3, 2.9, 5.6, 1.8]]), 2), (array([[6.5, 3. , 5.8, 2.2]]), 2), (array([[7.6, 3. , 6.6, 2.1]]), 2), (array([[4.9, 2.5, 4.5, 1.7]]), 2), (array([[7.3, 2.9, 6.3, 1.8]]), 2), (array([[6.7, 2.5, 5.8, 1.8]]), 2), (array([[7.2, 3.6, 6.1, 2.5]]), 2), (array([[6.5, 3.2, 5.1, 2. ]]), 2), (array([[6.4, 2.7, 5.3, 1.9]]), 2), (array([[6.8, 3. , 5.5, 2.1]]), 2), (array([[5.7, 2.5, 5. , 2. ]]), 2), (array([[5.8, 2.8, 5.1, 2.4]]), 2), (array([[6.4, 3.2, 5.3, 2.3]]), 2), (array([[6.5, 3. , 5.5, 1.8]]), 2), (array([[7.7, 3.8, 6.7, 2.2]]), 2), (array([[7.7, 2.6, 6.9, 2.3]]), 2), (array([[6. , 2.2, 5. , 1.5]]), 2), (array([[6.9, 3.2, 5.7, 2.3]]), 2), (array([[5.6, 2.8, 4.9, 2. ]]), 2), (array([[7.7, 2.8, 6.7, 2. ]]), 2), (array([[6.3, 2.7, 4.9, 1.8]]), 2), (array([[6.7, 3.3, 5.7, 2.1]]), 2), (array([[7.2, 3.2, 6. , 1.8]]), 2), (array([[6.2, 2.8, 4.8, 1.8]]), 2), (array([[6.1, 3. , 4.9, 1.8]]), 2), (array([[6.4, 2.8, 5.6, 2.1]]), 2), (array([[7.2, 3. , 5.8, 1.6]]), 2), (array([[7.4, 2.8, 6.1, 1.9]]), 2), (array([[7.9, 3.8, 6.4, 2. ]]), 2), (array([[6.4, 2.8, 5.6, 2.2]]), 2), (array([[6.3, 2.8, 5.1, 1.5]]), 2), (array([[6.1, 2.6, 5.6, 1.4]]), 2), (array([[7.7, 3. , 6.1, 2.3]]), 2), (array([[6.3, 3.4, 5.6, 2.4]]), 2), (array([[6.4, 3.1, 5.5, 1.8]]), 2), (array([[6. , 3. , 4.8, 1.8]]), 2), (array([[6.9, 3.1, 5.4, 2.1]]), 2), (array([[6.7, 3.1, 5.6, 2.4]]), 2), (array([[6.9, 3.1, 5.1, 2.3]]), 2), (array([[5.8, 2.7, 5.1, 1.9]]), 2), (array([[6.8, 3.2, 5.9, 2.3]]), 2), (array([[6.7, 3.3, 5.7, 2.5]]), 2), (array([[6.7, 3. , 5.2, 2.3]]), 2), (array([[6.3, 2.5, 5. , 1.9]]), 2), (array([[6.5, 3. , 5.2, 2. ]]), 2), (array([[6.2, 3.4, 5.4, 2.3]]), 2), (array([[5.9, 3. , 5.1, 1.8]]), 2)]\n"
          ]
        }
      ]
    },
    {
      "cell_type": "code",
      "source": [
        "W1 = np.random.randn(INPUT_DIM, H_DIM)\n",
        "b1 = np.random.randn(1, H_DIM)\n",
        "W2 = np.random.randn(H_DIM, OUTPUT_DIM)\n",
        "b2 = np.random.randn(1, OUTPUT_DIM)"
      ],
      "metadata": {
        "id": "5Mzg71OfkBR-"
      },
      "execution_count": 81,
      "outputs": []
    },
    {
      "cell_type": "code",
      "source": [
        "LEARNING_RATE = 0.0001\n",
        "NUM_EPOCHS = 100\n",
        "BATCH_SIZE = 50"
      ],
      "metadata": {
        "id": "KPlJ5hIhpsuG"
      },
      "execution_count": 69,
      "outputs": []
    },
    {
      "cell_type": "code",
      "source": [
        "loss_arr = []\n",
        "for ep in range(NUM_EPOCHS):\n",
        "  random.shuffle(dataset)\n",
        "  for i in range(len(dataset) // BATCH_SIZE):\n",
        "\n",
        "    batch_x, batch_y = zip(*dataset[i * BATCH_SIZE : i * BATCH_SIZE + BATCH_SIZE])\n",
        "    x = np.concatenate(batch_x, axis=0)\n",
        "    y = np.array(batch_y)\n",
        "\n",
        "    #Forward\n",
        "    t1 = x @ W1 + b1\n",
        "    h1 = relu(t1)\n",
        "    t2 = h1 @ W2 + b2\n",
        "    z = softmax_batch(t2)\n",
        "    E = np.sum(sparse_cross_entrapy_batch(z, y))\n",
        "\n",
        "    #Backward\n",
        "    y_full = to_full_batch(y, OUTPUT_DIM)\n",
        "    dE_dt2 = z - y_full\n",
        "    dE_dW2 = h1.T @ dE_dt2\n",
        "    dE_db2 = np.sum(dE_dt2, axis=0, keepdims=True)\n",
        "    dE_dh1 = dE_dt2 @ W2.T\n",
        "    dE_dt1 = dE_dh1 * relu_deriv(t1)\n",
        "    dE_dW1 = x.T @ dE_dt1\n",
        "    dE_db1 = np.sum(dE_dt1, axis=0, keepdims=True)\n",
        "\n",
        "    #Update\n",
        "    W1 = W1 - LEARNING_RATE * dE_dW1\n",
        "    b1 = b1 - LEARNING_RATE * dE_db1\n",
        "    W2 = W2 - LEARNING_RATE * dE_dW2\n",
        "    b2 = b2 - LEARNING_RATE * dE_db2\n",
        "\n",
        "    loss_arr.append(E)"
      ],
      "metadata": {
        "id": "ilyE0O0_rdBX"
      },
      "execution_count": 82,
      "outputs": []
    },
    {
      "cell_type": "code",
      "source": [
        "def predict(x):\n",
        "  t1 = x @ W1 + b1\n",
        "  h1 = relu(t1)\n",
        "  t2 = h1 @ W2 + b2\n",
        "  z = softmax(t2)\n",
        "  return z"
      ],
      "metadata": {
        "id": "sHwi9TrMtCLW"
      },
      "execution_count": 71,
      "outputs": []
    },
    {
      "cell_type": "code",
      "source": [
        "def calc_accuracy():\n",
        "  correct = 0\n",
        "  for x, y in dataset:\n",
        "    z = predict(x)\n",
        "    y_pred = np.argmax(z)\n",
        "    if y_pred == y:\n",
        "      correct += 1\n",
        "  acc = correct/len(dataset)\n",
        "  return acc"
      ],
      "metadata": {
        "id": "VIapOuQ4tPcc"
      },
      "execution_count": 72,
      "outputs": []
    },
    {
      "cell_type": "code",
      "source": [
        "accuracy = calc_accuracy()\n",
        "print(\"Accuracy:\", accuracy)"
      ],
      "metadata": {
        "colab": {
          "base_uri": "https://localhost:8080/"
        },
        "id": "JSGxlbMEt2wt",
        "outputId": "da30979d-9233-4200-bea2-c61cd8135286"
      },
      "execution_count": 83,
      "outputs": [
        {
          "output_type": "stream",
          "name": "stdout",
          "text": [
            "Accuracy: 0.9066666666666666\n"
          ]
        }
      ]
    },
    {
      "cell_type": "code",
      "source": [
        "import matplotlib.pyplot as plt\n",
        "plt.plot(loss_arr)\n",
        "plt.show()"
      ],
      "metadata": {
        "colab": {
          "base_uri": "https://localhost:8080/",
          "height": 265
        },
        "id": "q-35VK76vJ3A",
        "outputId": "1af833df-2038-484f-bd68-b00f82532c28"
      },
      "execution_count": 84,
      "outputs": [
        {
          "output_type": "display_data",
          "data": {
            "text/plain": [
              "<Figure size 432x288 with 1 Axes>"
            ],
            "image/png": "[encoded data removed]"
          },
          "metadata": {
            "needs_background": "light"
          }
        }
      ]
    },
    {
      "cell_type": "code",
      "source": [
        "print(predict(x[1]))"
      ],
      "metadata": {
        "colab": {
          "base_uri": "https://localhost:8080/"
        },
        "id": "ruXYcA56vRbW",
        "outputId": "3c693bcc-f682-4672-807e-d55af79ea7b6"
      },
      "execution_count": 87,
      "outputs": [
        {
          "output_type": "stream",
          "name": "stdout",
          "text": [
            "[[0.00881409 0.91349668 0.07768923]]\n"
          ]
        }
      ]
    }
  ]
}